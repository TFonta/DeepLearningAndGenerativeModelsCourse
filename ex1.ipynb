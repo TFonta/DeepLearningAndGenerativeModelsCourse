{
 "cells": [
  {
   "cell_type": "markdown",
   "id": "8b718ac4-2466-44af-b8fd-1be5b2547738",
   "metadata": {},
   "source": [
    "# First steps into Pytorch\n",
    "for more details: https://pytorch.org/docs/stable/index.html"
   ]
  },
  {
   "cell_type": "code",
   "execution_count": null,
   "id": "6173c1ac-e057-46b0-ade9-1ad3c3dd5f0d",
   "metadata": {
    "tags": []
   },
   "outputs": [],
   "source": [
    "#Let's start by importing the library\n",
    "import torch"
   ]
  },
  {
   "cell_type": "markdown",
   "id": "e5561279-a8a7-4cb5-bc7f-fc18b6f08c20",
   "metadata": {},
   "source": [
    "A <code>torch.Tensor</code> is a multi-dimensional matrix containing elements of a single data type."
   ]
  },
  {
   "cell_type": "code",
   "execution_count": null,
   "id": "dcd7b201-e8bf-4a2e-9e0c-596ddfc35dd8",
   "metadata": {
    "tags": []
   },
   "outputs": [],
   "source": [
    "# Generate a Tensor of size 2x2x4\n",
    "t = torch.Tensor(2,2,4)\n",
    "t_2 = torch.Tensor(16,32,128,128)\n",
    "t_3 = torch.Tensor(1, 3, 256, 256)\n",
    "# .size() allows to get the size of the tensor\n",
    "print(t.size(), t_2.size(), t_3.size())"
   ]
  },
  {
   "cell_type": "code",
   "execution_count": null,
   "id": "6d1a60cb-21f6-4ff2-a8a9-669029cd94ab",
   "metadata": {
    "tags": []
   },
   "outputs": [],
   "source": [
    "# Generate a tensor filled with random numbers \n",
    "# from a normal distribution with mean 0 and variance 1 \n",
    "# with the same size\n",
    "t_r = torch.randn(2,2,4)\n",
    "# and a tensor filled with ones\n",
    "t_ones = torch.ones(2,2,4)\n",
    "t_zeros = torch.zeros(2,2,4)"
   ]
  },
  {
   "cell_type": "code",
   "execution_count": null,
   "id": "39fe3992-19ed-4588-ba74-7eb44f8c07d8",
   "metadata": {
    "tags": []
   },
   "outputs": [],
   "source": [
    "# Print the tensors\n",
    "print(t, t_r, t_ones, t_zeros)"
   ]
  },
  {
   "cell_type": "code",
   "execution_count": null,
   "id": "614832d1-6fbf-4295-83aa-c58fe84b83a0",
   "metadata": {},
   "outputs": [],
   "source": [
    "# To resize a tensor do\n",
    "#t_r.resize_(4,4)\n",
    "#print(t_r.size(), t_r)\n",
    "t_r.resize_(16,16)\n",
    "print(t_r.size())\n",
    "# be CAREFULL with in-place operations like this one\n",
    "# since they will permanently change the tensor"
   ]
  },
  {
   "cell_type": "code",
   "execution_count": null,
   "id": "416c3840-81a4-45a0-90fa-856170e37619",
   "metadata": {},
   "outputs": [],
   "source": [
    "# It is better to firstly clone the tensor and then resize it\n",
    "t_c = t.clone()\n",
    "t_c.resize_(2,2)\n",
    "# so that the original one remains untouched\n",
    "print(t.size(), t_c.size())"
   ]
  },
  {
   "cell_type": "code",
   "execution_count": null,
   "id": "7ecd70b1-dd29-4d5e-841d-d19da891036b",
   "metadata": {},
   "outputs": [],
   "source": [
    "# An alternative is to use the .view() operator which do not alter the total number of dimensions of the tensor\n",
    "t_v = torch.randn(4,4)\n",
    "t_v1 = t_v.view(2,2,4)\n",
    "print(t_v.size(), t_v1.size())\n",
    "#t_v2 = t_v.view(16,4)"
   ]
  },
  {
   "cell_type": "code",
   "execution_count": null,
   "id": "ff4a94e5",
   "metadata": {},
   "outputs": [],
   "source": [
    "# Other useful operations on tensors\n",
    "# torch.stack(), torch.split(), torch.chunk()\n",
    "# torch.permute(), torch.transpose()"
   ]
  },
  {
   "cell_type": "code",
   "execution_count": null,
   "id": "bdbd8054-a006-4ddb-8226-a12cbbe5fc30",
   "metadata": {},
   "outputs": [],
   "source": [
    "# Fill a tensor with a specific number\n",
    "t_ones.fill_(3)\n",
    "print(t_ones)\n",
    "t_ones.fill_(64)\n",
    "print(t_ones)"
   ]
  },
  {
   "cell_type": "code",
   "execution_count": null,
   "id": "06315e4c-1183-4723-af84-3788a39de12f",
   "metadata": {},
   "outputs": [],
   "source": [
    "# If you want to create a tensor filled with specific numbers just do\n",
    "v = torch.Tensor([7,8,9])\n",
    "print(v)\n",
    "print(v.size())"
   ]
  },
  {
   "cell_type": "markdown",
   "id": "41ce40be-a8fd-4b79-8d69-6c05757a4508",
   "metadata": {},
   "source": [
    "Working with tensors is exactly like working with vectors and matrices!"
   ]
  },
  {
   "cell_type": "code",
   "execution_count": null,
   "id": "5febd376-8d6b-4be2-bef1-b2a0b8fc3e1c",
   "metadata": {},
   "outputs": [],
   "source": [
    "w = torch.Tensor([3,2,1]) # a vector\n",
    "# Sum (or subtraction)\n",
    "print(w + v)\n",
    "# Element-wise multiplication (or division)\n",
    "print(w * v)\n",
    "# Square all elements in the tensor\n",
    "w2 = w.pow(2)\n",
    "print(w2)\n",
    "# and so on..."
   ]
  },
  {
   "cell_type": "code",
   "execution_count": null,
   "id": "242eeb56-c86b-4c53-9970-c5cdf9f10b6a",
   "metadata": {},
   "outputs": [],
   "source": [
    "# tensors need to have the same number of dimensions in order for them to be summed\n",
    "q = torch.randn(2,4,2)\n",
    "p = torch.randn(2,3,2)\n",
    "\n",
    "print(q + p)"
   ]
  },
  {
   "cell_type": "code",
   "execution_count": null,
   "id": "ab258c45-71d1-4649-a754-d0d414f2938a",
   "metadata": {},
   "outputs": [],
   "source": [
    "# Define a 2x4 matrix\n",
    "m = torch.Tensor([[1,2,3,4],\n",
    "                 [5,6,7,8]])\n",
    "print(m)\n",
    "print(m.size(), m.size(0), m.size(1))"
   ]
  },
  {
   "cell_type": "code",
   "execution_count": null,
   "id": "cc7b8b6c-0a76-4529-b61d-02bde8ef10de",
   "metadata": {},
   "outputs": [],
   "source": [
    "# Get a value from the matrix\n",
    "print(m[1,2])\n",
    "# Get a column\n",
    "print(m[:,2])\n",
    "# Get a row\n",
    "print(m[1, :])\n",
    "# Getting an intervall of values\n",
    "print(m[:, 2:])\n",
    "print(m[:, :2])"
   ]
  },
  {
   "cell_type": "code",
   "execution_count": null,
   "id": "7fb8aa10-6013-420d-b6c9-f4a8b6c0ac57",
   "metadata": {},
   "outputs": [],
   "source": [
    "# like with vectors you can do\n",
    "# Sum (or subtraction)\n",
    "b = torch.randn(2,4)\n",
    "print(m + b)\n",
    "# Multiplication (or division)\n",
    "print(m * b)"
   ]
  },
  {
   "cell_type": "code",
   "execution_count": null,
   "id": "e9d001fe-1e5e-47a1-bf93-191a303256f0",
   "metadata": {},
   "outputs": [],
   "source": [
    "# Transpose a matrix\n",
    "print(m.t())"
   ]
  },
  {
   "cell_type": "code",
   "execution_count": null,
   "id": "3161d106",
   "metadata": {},
   "outputs": [],
   "source": [
    "# Other operations on matrices\n",
    "#torch.mm(), torch.bmm(), torch.matmul()  # Matrix multiplication\n",
    "#torch.sum(), torch.mean(), torch.std()   # Reduction operations\n",
    "#torch.max(), torch.min(), torch.argmax() # Extrema operations"
   ]
  },
  {
   "cell_type": "code",
   "execution_count": null,
   "id": "3d3ab60d-67ba-4b61-b9c5-0dcd9313fc25",
   "metadata": {},
   "outputs": [],
   "source": [
    "# Flatten a tensor maintaining the same batch size (the first element of the Tensor)\n",
    "m_4_dim = torch.randn(4,8,2,2)\n",
    "print(m_4_dim.view(m_4_dim.size(0), -1).size()) \n",
    "# Rearrange dimensions\n",
    "print(m_4_dim.view(m_4_dim.size(0), 16, 2).size()) "
   ]
  },
  {
   "cell_type": "markdown",
   "id": "c11892ac-f602-4620-9035-7ae7dfa3cadc",
   "metadata": {},
   "source": [
    "Moving tensors to GPU"
   ]
  },
  {
   "cell_type": "code",
   "execution_count": null,
   "id": "f1d62c05-de21-4ce0-8686-0e17caeab7a8",
   "metadata": {},
   "outputs": [],
   "source": [
    "# Move tensor to GPU device 0 if there is one (first GPU in the system)\n",
    "device = torch.device(\"cuda:0\" if torch.cuda.is_available() else \"cpu\")\n",
    "m_d = m.to(device)\n",
    "print(device)\n",
    "print(m_d.device)\n",
    "\n",
    "m = m.cpu()\n",
    "print(m.device)\n",
    "m = m.cuda()\n",
    "print(m.device)"
   ]
  },
  {
   "cell_type": "markdown",
   "id": "cc359b97-929e-44d6-9d9c-c77a9f4bffad",
   "metadata": {},
   "source": [
    "Moving tensors to Numpy"
   ]
  },
  {
   "cell_type": "code",
   "execution_count": null,
   "id": "48d797bd-0782-4b30-a8a3-58a49e703b09",
   "metadata": {},
   "outputs": [],
   "source": [
    "# Converts tensor to numpy array\n",
    "m_np = m.cpu().numpy()\n",
    "print(m_np)"
   ]
  },
  {
   "cell_type": "code",
   "execution_count": null,
   "id": "0337ce7e",
   "metadata": {},
   "outputs": [],
   "source": [
    "# Different tensor data types\n",
    "#torch.float32, torch.int64, torch.bool, torch.double\n",
    "print(m.dtype)\n",
    "m = m.to(torch.int64)\n",
    "print(m.dtype)"
   ]
  },
  {
   "cell_type": "markdown",
   "id": "bab24323-6f7d-40d5-b649-ca79197b0e0a",
   "metadata": {},
   "source": [
    "Tensors concatenations"
   ]
  },
  {
   "cell_type": "code",
   "execution_count": null,
   "id": "9b765c44-69b4-401a-8ade-846348d2f1ba",
   "metadata": {},
   "outputs": [],
   "source": [
    "a = torch.Tensor([[1, 2, 3, 4]]) # 1,4\n",
    "b = torch.Tensor([[5, 6, 7, 8]]) # 1,4\n",
    "\n",
    "# Concatenate on axis 0 -> 2,4\n",
    "print(torch.cat((a, b), 0))\n",
    "# Concatenate on axis 1 -> 1,8\n",
    "print(torch.cat((a, b), 1))"
   ]
  },
  {
   "cell_type": "code",
   "execution_count": null,
   "id": "29adb1da-326e-4bdc-bda0-4bc876239fa5",
   "metadata": {},
   "outputs": [],
   "source": [
    "c = torch.randn(3,4)\n",
    "d = torch.randn(3,12)\n",
    "\n",
    "print(torch.cat((c,d), 1)) # 3, 16"
   ]
  },
  {
   "cell_type": "code",
   "execution_count": null,
   "id": "749be253-07a4-4c16-a50d-2bd95532d4cb",
   "metadata": {},
   "outputs": [],
   "source": [
    "# Adding and removing dimensions from Tensor\n",
    "r_t = torch.randn(3,64,64)\n",
    "\n",
    "# add a dimension\n",
    "r_t = r_t.unsqueeze(0) # argument is WHERE we want the dimension to be added\n",
    "print(r_t.size())\n",
    "\n",
    "# remove a dimension\n",
    "r_t = r_t.squeeze(0) # argument is WHERE we want the dimension to be removed\n",
    "print(r_t.size())"
   ]
  },
  {
   "cell_type": "code",
   "execution_count": null,
   "id": "78438106-1a53-45c1-946c-4bd6070e7d93",
   "metadata": {},
   "outputs": [],
   "source": [
    "# Ex1: Split a 3 dimensional tensor of dimension 4x64x128 \n",
    "# into 2 tensors of size 4x32x128\n",
    "# and then concatenate them together to get the original size back"
   ]
  },
  {
   "cell_type": "code",
   "execution_count": null,
   "id": "b69ec614-493b-406f-a71f-9800bbf88783",
   "metadata": {},
   "outputs": [],
   "source": [
    "# Ex2: You have two matrices of dimension: 4x256x4 and 4x16x64 \n",
    "# concatenate them together to form a single matrix\n",
    "# of dimension 4x64x32"
   ]
  },
  {
   "cell_type": "code",
   "execution_count": null,
   "id": "f07e2ed8-e7d7-44b8-a332-c1b63dccc3ca",
   "metadata": {
    "tags": []
   },
   "outputs": [],
   "source": [
    "# Ex3: You have 4 matrixes representing 4 RGB images of dimension 3x128x128.\n",
    "# Create a grid of dimension 3x256x256"
   ]
  },
  {
   "cell_type": "code",
   "execution_count": null,
   "id": "fb2cada5-870a-4373-a582-a763e9d880c2",
   "metadata": {},
   "outputs": [],
   "source": []
  }
 ],
 "metadata": {
  "kernelspec": {
   "display_name": "pytorch",
   "language": "python",
   "name": "python3"
  },
  "language_info": {
   "codemirror_mode": {
    "name": "ipython",
    "version": 3
   },
   "file_extension": ".py",
   "mimetype": "text/x-python",
   "name": "python",
   "nbconvert_exporter": "python",
   "pygments_lexer": "ipython3",
   "version": "3.12.7"
  }
 },
 "nbformat": 4,
 "nbformat_minor": 5
}
